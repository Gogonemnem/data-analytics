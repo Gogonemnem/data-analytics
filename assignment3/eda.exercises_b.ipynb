{
 "cells": [
  {
   "cell_type": "markdown",
   "metadata": {},
   "source": [
    "# TI3130: Exploratory Data Analysis Lab &mdash; Exercises (variant B)\n",
    "**Julián Urbano &mdash; November 2021**"
   ]
  },
  {
   "cell_type": "code",
   "execution_count": 1,
   "metadata": {
    "ExecuteTime": {
     "end_time": "2020-11-26T11:42:06.238026Z",
     "start_time": "2020-11-26T11:42:05.255756Z"
    },
    "scrolled": true
   },
   "outputs": [
    {
     "name": "stdout",
     "output_type": "stream",
     "text": [
      "python 3.8.12 (default, Oct 12 2021, 03:01:40) [MSC v.1916 64 bit (AMD64)] \n",
      "numpy 1.21.2 \n",
      "pandas 1.3.4 \n",
      "plotnine 0.8.0\n"
     ]
    }
   ],
   "source": [
    "import sys\n",
    "import numpy as np\n",
    "import pandas as pd\n",
    "from plotnine import *\n",
    "from plotnine import __version__ as p9__version__\n",
    "print(\"python\", sys.version,\n",
    "      \"\\nnumpy\", np.__version__,\n",
    "      \"\\npandas\", pd.__version__,\n",
    "      \"\\nplotnine\", p9__version__)"
   ]
  },
  {
   "cell_type": "markdown",
   "metadata": {},
   "source": [
    "For these exercises we will use the _AirBnB Berlin_ dataset and the _Diamonds_ dataset. Please refer to their HTML files for a description of the variables."
   ]
  },
  {
   "cell_type": "code",
   "execution_count": 2,
   "metadata": {
    "scrolled": false
   },
   "outputs": [
    {
     "name": "stdout",
     "output_type": "stream",
     "text": [
      "<class 'pandas.core.frame.DataFrame'>\n",
      "RangeIndex: 5000 entries, 0 to 4999\n",
      "Data columns (total 14 columns):\n",
      " #   Column              Non-Null Count  Dtype  \n",
      "---  ------              --------------  -----  \n",
      " 0   id                  5000 non-null   int64  \n",
      " 1   name                4983 non-null   object \n",
      " 2   host_id             5000 non-null   int64  \n",
      " 3   host_name           4992 non-null   object \n",
      " 4   neighborhood_group  5000 non-null   object \n",
      " 5   neighborhood        5000 non-null   object \n",
      " 6   latitude            5000 non-null   float64\n",
      " 7   longitude           5000 non-null   float64\n",
      " 8   room_type           5000 non-null   object \n",
      " 9   price               5000 non-null   int64  \n",
      " 10  minimum_nights      5000 non-null   int64  \n",
      " 11  number_of_reviews   5000 non-null   int64  \n",
      " 12  last_review         4390 non-null   object \n",
      " 13  reviews_per_month   4388 non-null   float64\n",
      "dtypes: float64(3), int64(5), object(6)\n",
      "memory usage: 547.0+ KB\n",
      "<class 'pandas.core.frame.DataFrame'>\n",
      "RangeIndex: 53940 entries, 0 to 53939\n",
      "Data columns (total 10 columns):\n",
      " #   Column   Non-Null Count  Dtype  \n",
      "---  ------   --------------  -----  \n",
      " 0   carat    53940 non-null  float64\n",
      " 1   cut      53940 non-null  object \n",
      " 2   color    53940 non-null  object \n",
      " 3   clarity  53940 non-null  object \n",
      " 4   depth    53940 non-null  float64\n",
      " 5   table    53940 non-null  float64\n",
      " 6   price    53940 non-null  int64  \n",
      " 7   x        53940 non-null  float64\n",
      " 8   y        53940 non-null  float64\n",
      " 9   z        53940 non-null  float64\n",
      "dtypes: float64(6), int64(1), object(3)\n",
      "memory usage: 4.1+ MB\n"
     ]
    }
   ],
   "source": [
    "listings = pd.read_csv('airbnb_listings.csv')\n",
    "listings.info()\n",
    "\n",
    "diamonds = pd.read_csv('diamonds.csv')\n",
    "diamonds.info()"
   ]
  },
  {
   "cell_type": "markdown",
   "metadata": {},
   "source": [
    "a) Visualize the distribution of `neighborhood_group`s in a horizontal barplot. Sort `neighborhood_group`s in descending order by the number of observations."
   ]
  },
  {
   "cell_type": "code",
   "execution_count": null,
   "metadata": {},
   "outputs": [],
   "source": []
  },
  {
   "cell_type": "markdown",
   "metadata": {},
   "source": [
    "b) The default histogram of `longitude` shows a bump at around `longitude = 13.35`. Modify the histogram in the slightest way such that the bump disappears but the overall shape of the distribution remains. Is it a good idea to do this?"
   ]
  },
  {
   "cell_type": "code",
   "execution_count": null,
   "metadata": {},
   "outputs": [],
   "source": []
  },
  {
   "cell_type": "markdown",
   "metadata": {},
   "source": [
    "c) Make a barplot to easily compare, for each diamon `cut`, the number of diamonds of a specific `clarity`."
   ]
  },
  {
   "cell_type": "code",
   "execution_count": null,
   "metadata": {},
   "outputs": [],
   "source": []
  },
  {
   "cell_type": "markdown",
   "metadata": {},
   "source": [
    "d) Which variable seems to have the largest impact on a listing's `price`: `neighborhood_group` or `room_type`? Why? Consider only listings cheaper than 200€/night. You can answer this by looking at boxplots, for example."
   ]
  },
  {
   "cell_type": "code",
   "execution_count": null,
   "metadata": {},
   "outputs": [],
   "source": []
  },
  {
   "cell_type": "markdown",
   "metadata": {},
   "source": [
    "e) Compute the age of each listing (you can use data about their reviews) and use a density plot to compare the distribution across `room_type`s. Do you see differences?"
   ]
  },
  {
   "cell_type": "code",
   "execution_count": null,
   "metadata": {},
   "outputs": [],
   "source": []
  },
  {
   "cell_type": "markdown",
   "metadata": {},
   "source": [
    "f) Plot diamond `price` by `carat` and use transparency to help better visualizing the distribution."
   ]
  },
  {
   "cell_type": "code",
   "execution_count": null,
   "metadata": {},
   "outputs": [],
   "source": []
  },
  {
   "cell_type": "markdown",
   "metadata": {},
   "source": [
    "g) Repeat the previous plot, but instead of using transparency use a third variable to show some new insight in the data (eg. patterns, interesting observations, outliers, etc.) by mapping it to some aesthetic. What new insight do you see? Use transparency again if you think it helps."
   ]
  },
  {
   "cell_type": "code",
   "execution_count": null,
   "metadata": {},
   "outputs": [],
   "source": []
  },
  {
   "cell_type": "markdown",
   "metadata": {},
   "source": [
    "h) Show the relationship between `price` and `cut`, faceted by `color`. Modify the plot however you think it's best to show the relationship."
   ]
  },
  {
   "cell_type": "code",
   "execution_count": null,
   "metadata": {
    "scrolled": false
   },
   "outputs": [],
   "source": []
  },
  {
   "cell_type": "markdown",
   "metadata": {},
   "source": [
    "i) Make a scatterplot of diamond `price` by `table`. Transform the scales such that the relationship becomes more uniform across the ranges (ie. points are more equally spread across the entire range)."
   ]
  },
  {
   "cell_type": "code",
   "execution_count": null,
   "metadata": {},
   "outputs": [],
   "source": []
  },
  {
   "cell_type": "markdown",
   "metadata": {},
   "source": [
    "j) Create an _unambiguous_ and _nontrivial_ question, and its corresponding solution, as if you were writing the set of exercises for the lab. The question must cover _at least 3_ of the following aspects:\n",
    "\n",
    "- Contingency table or barplot\n",
    "- Histogram or density plot\n",
    "- Boxplot or violin plot\n",
    "- Scatterplot or contour plot\n",
    "- Additional variables for color, line type, etc\n",
    "- Facets\n",
    "- Transformations\n",
    "- An open-ended question to explain some behavior\n",
    "\n",
    "Please make it explicit which 3 of these aspects your question covers. You can use any of the datasets available on Brightspace."
   ]
  }
 ],
 "metadata": {
  "jupytext": {
   "formats": "ipynb,Rmd"
  },
  "kernelspec": {
   "display_name": "Python 3 (ipykernel)",
   "language": "python",
   "name": "python3"
  },
  "language_info": {
   "codemirror_mode": {
    "name": "ipython",
    "version": 3
   },
   "file_extension": ".py",
   "mimetype": "text/x-python",
   "name": "python",
   "nbconvert_exporter": "python",
   "pygments_lexer": "ipython3",
   "version": "3.8.12"
  },
  "toc": {
   "base_numbering": 1,
   "nav_menu": {},
   "number_sections": true,
   "sideBar": true,
   "skip_h1_title": false,
   "title_cell": "Table of Contents",
   "title_sidebar": "Contents",
   "toc_cell": true,
   "toc_position": {
    "height": "calc(100% - 180px)",
    "left": "10px",
    "top": "150px",
    "width": "288px"
   },
   "toc_section_display": true,
   "toc_window_display": true
  },
  "varInspector": {
   "cols": {
    "lenName": 16,
    "lenType": 16,
    "lenVar": 40
   },
   "kernels_config": {
    "python": {
     "delete_cmd_postfix": "",
     "delete_cmd_prefix": "del ",
     "library": "var_list.py",
     "varRefreshCmd": "print(var_dic_list())"
    },
    "r": {
     "delete_cmd_postfix": ") ",
     "delete_cmd_prefix": "rm(",
     "library": "var_list.r",
     "varRefreshCmd": "cat(var_dic_list()) "
    }
   },
   "types_to_exclude": [
    "module",
    "function",
    "builtin_function_or_method",
    "instance",
    "_Feature"
   ],
   "window_display": false
  }
 },
 "nbformat": 4,
 "nbformat_minor": 4
}
