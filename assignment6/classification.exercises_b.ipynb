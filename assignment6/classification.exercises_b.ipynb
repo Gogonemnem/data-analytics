{
 "cells": [
  {
   "cell_type": "markdown",
   "metadata": {},
   "source": [
    "# TI3130: Classification Lab &mdash; Solutions (variant B)\n",
    "**Julián Urbano &mdash; January 2022**"
   ]
  },
  {
   "cell_type": "code",
   "execution_count": 1,
   "metadata": {
    "scrolled": true
   },
   "outputs": [
    {
     "name": "stdout",
     "output_type": "stream",
     "text": [
      "python 3.9.7 (default, Sep 16 2021, 13:09:58) \n",
      "[GCC 7.5.0] \n",
      "numpy 1.22.0 \n",
      "pandas 1.3.5 \n",
      "plotnine 0.8.0 \n",
      "statsmodels 0.13.1 \n",
      "sklearn 1.0.2\n"
     ]
    }
   ],
   "source": [
    "import sys\n",
    "import numpy as np\n",
    "import pandas as pd\n",
    "from plotnine import *\n",
    "from plotnine import __version__ as p9__version__\n",
    "import statsmodels.api as sm\n",
    "import statsmodels.formula.api as smf\n",
    "from sklearn import __version__ as sk__version__\n",
    "\n",
    "print(\"python\", sys.version,\n",
    "      \"\\nnumpy\", np.__version__,\n",
    "      \"\\npandas\", pd.__version__,\n",
    "      \"\\nplotnine\", p9__version__,\n",
    "      \"\\nstatsmodels\", sm.__version__,\n",
    "      \"\\nsklearn\", sk__version__)"
   ]
  },
  {
   "cell_type": "markdown",
   "metadata": {},
   "source": [
    "For these exercises we will use the _Amsterdam Lite_ dataset and the _Heart_ dataset. Please refer to their HTML files for a description of the variables."
   ]
  },
  {
   "cell_type": "code",
   "execution_count": 2,
   "metadata": {},
   "outputs": [],
   "source": [
    "ams = pd.read_csv('amsterdam_lite.csv')\n",
    "for col in ams.select_dtypes('object').columns:\n",
    "    ams[col] = pd.Categorical(ams[col])\n",
    "\n",
    "heart = pd.read_csv('heart.csv')\n",
    "for col in heart.select_dtypes('object').columns:\n",
    "    heart[col] = pd.Categorical(heart[col])"
   ]
  },
  {
   "cell_type": "markdown",
   "metadata": {},
   "source": [
    "For these exercises we will use the evaluation metrics and cross-validation code we used in the tutorial:"
   ]
  },
  {
   "cell_type": "code",
   "execution_count": 3,
   "metadata": {
    "code_folding": [
     4
    ]
   },
   "outputs": [],
   "source": [
    "from sklearn.metrics import accuracy_score, precision_score, recall_score, f1_score\n",
    "from sklearn.metrics import classification_report, ConfusionMatrixDisplay\n",
    "from sklearn.model_selection import StratifiedKFold\n",
    "\n",
    "def kfold_cv(X, y, k, H, cv_fun, random_state):\n",
    "    \"\"\"\n",
    "    Do stratified k-fold cross-validation with a dataset, to check how a model behaves as a function\n",
    "    of the values in H (eg. a hyperparameter such as tree depth, or polynomial degree).\n",
    "\n",
    "    :param X: feature matrix.\n",
    "    :param y: response column.\n",
    "    :param k: number of folds.\n",
    "    :param H: values of the hyperparameter to cross-validate.\n",
    "    :param cv_fun: function of the form (X_train, y_train, X_valid, y_valid, h) to evaluate the model in one split,\n",
    "        as a function of h. It must return a dictionary with metric score values.\n",
    "    :param random_state: controls the pseudo random number generation for splitting the data.\n",
    "    :return: a Pandas dataframe with metric scores along values in H.\n",
    "    \"\"\"\n",
    "    kf = StratifiedKFold(n_splits = k, shuffle = True, random_state = random_state)\n",
    "    pr = []  # to store global results\n",
    "\n",
    "    # for each value h in H, do CV\n",
    "    for h in H:\n",
    "        scores = []  # to store the k results for this h\n",
    "        # for each fold 1..K\n",
    "        for train_index, valid_index in kf.split(X, y):\n",
    "            # partition the data in training and validation\n",
    "            X_train, X_valid = X.iloc[train_index], X.iloc[valid_index]\n",
    "            y_train, y_valid = y.iloc[train_index], y.iloc[valid_index]\n",
    "\n",
    "            # call cv_fun to train the model and compute performance\n",
    "            fold_scores = cv_fun(X_train, y_train, X_valid, y_valid, h)\n",
    "            scores.append(fold_scores)\n",
    "\n",
    "        rowMeans = pd.DataFrame(scores).mean(axis = 0)  # average scores across folds\n",
    "        pr.append(rowMeans)  # append to global results\n",
    "\n",
    "    pr = pd.DataFrame(pr).assign(_h = H)\n",
    "    return pr"
   ]
  },
  {
   "cell_type": "markdown",
   "metadata": {},
   "source": [
    "**a) The first classifier in the tutorial notebook used a logistic model with a default threshold of 0.5. Function `predict` below implements a prediction function for the given `model`, test data `X_test` and response `vocabulary`. Implement this function such that it optimizes the recall of the second class, `2.high`.**"
   ]
  },
  {
   "cell_type": "code",
   "execution_count": 4,
   "metadata": {
    "scrolled": true
   },
   "outputs": [
    {
     "data": {
      "text/plain": [
       "0      2.high\n",
       "1      2.high\n",
       "2      2.high\n",
       "3      2.high\n",
       "4      2.high\n",
       "        ...  \n",
       "408    2.high\n",
       "409    2.high\n",
       "410    2.high\n",
       "411    2.high\n",
       "412    2.high\n",
       "Length: 413, dtype: object"
      ]
     },
     "execution_count": 4,
     "metadata": {},
     "output_type": "execute_result"
    }
   ],
   "source": [
    "# sample data and model\n",
    "X = ams.assign(y = ams['saf_catering'].cat.codes)\n",
    "m = smf.glm('y ~ hou_value', X, family = sm.families.Binomial()).fit()\n",
    "\n",
    "def predict(model, X_test, vocabulary):\n",
    "    p = model.predict(X_test)\n",
    "    # always predict 2.high\n",
    "    threshold = 0 # optimize recall -> minimize FN -> don´t predict negatives\n",
    "    p[p<threshold] = vocabulary[0]\n",
    "    p[p>=threshold] = vocabulary[1]\n",
    "    return p\n",
    "\n",
    "# sample execution\n",
    "predict(m, X, ams['saf_catering'].cat.categories)"
   ]
  },
  {
   "cell_type": "markdown",
   "metadata": {},
   "source": [
    "**b) Slide 38 shows an example of how complex models keep improving in the training set but not necessarily in a validation set because they eventually overfit. Use the _Heart_ dataset and decision trees to predict `ahd` with _all_ other features to produce a plot similar to the one in the slides via 10-fold cross-validation. You only need to plot accuracy in the training and validation sets. What number of leaves would you choose based on the results? You will need to use Pandas' [`get_dummies`](https://pandas.pydata.org/docs/reference/api/pandas.get_dummies.html) to encode categorical features.**"
   ]
  },
  {
   "cell_type": "markdown",
   "metadata": {},
   "source": [
    "You would like to minimize the error form the 10-fold cv, which corresponds to k=6."
   ]
  },
  {
   "cell_type": "code",
   "execution_count": 5,
   "metadata": {
    "scrolled": false
   },
   "outputs": [
    {
     "data": {
      "image/png": "[encoded data removed]",
      "text/plain": [
       "<Figure size 640x480 with 1 Axes>"
      ]
     },
     "metadata": {},
     "output_type": "display_data"
    },
    {
     "data": {
      "text/plain": [
       "<ggplot: (8756001459544)>"
      ]
     },
     "execution_count": 5,
     "metadata": {},
     "output_type": "execute_result"
    }
   ],
   "source": [
    "from sklearn import tree\n",
    "# sample data and model\n",
    "y = heart['ahd'] # .cat.codes\n",
    "X = pd.get_dummies(heart.loc[ : , heart.columns != 'ahd'])\n",
    "\n",
    "# train\n",
    "def cv_tree_leaf(X_train, y_train, X_valid, y_valid, h):\n",
    "    # create classifier to prune to h leaf nodes\n",
    "    # we set the random state here as well for full reproducibility\n",
    "    c = tree.DecisionTreeClassifier(max_leaf_nodes = h, random_state = 54321)\n",
    "    m = c.fit(X_train, y_train)  # fit the model with the training set\n",
    "    p = m.predict(X_valid)  # predict on the validation set\n",
    "\n",
    "    # compute and return evaluation metric scores\n",
    "    return {'accuracy': accuracy_score(y_valid, p),\n",
    "            'precision': precision_score(y_valid, p, average = 'macro', zero_division = 0),\n",
    "            'recall': recall_score(y_valid, p, average = 'macro'),\n",
    "            'f': f1_score(y_valid, p, average = 'macro'),\n",
    "            'error': 1-accuracy_score(y_valid, p)}\n",
    "\n",
    "def range_tree(X, y, H, cv_fun):\n",
    "    pr = []  # to store global results\n",
    "\n",
    "    # for each value h in H, do CV\n",
    "    for h in H:\n",
    "        # call cv_fun to train the model and compute performance\n",
    "        fold_scores = cv_fun(X, y, X, y, h)\n",
    "        pr.append(fold_scores)\n",
    "\n",
    "    pr = pd.DataFrame(pr).assign(_h = H)\n",
    "    return pr\n",
    "\n",
    "train = range_tree(X, y, H = range(2, 57), cv_fun = cv_tree_leaf)\n",
    "cv = kfold_cv(X, y, k = 10, H = range(2, 57), cv_fun = cv_tree_leaf, random_state = 12345)\n",
    "\n",
    "pr = train.merge(cv, on='_h').loc[: ,['error_x', '_h', 'error_y']]\n",
    "pr.columns = ['training', '_h', '10-fold cross-validation']\n",
    "pr = pr.melt(id_vars = '_h', var_name = 'Metric')\n",
    "ggplot(pr, aes('_h', 'value', color = 'Metric')) +\\\n",
    "    geom_point() +\\\n",
    "    geom_smooth(se = False) +\\\n",
    "    labs(x = 'Leaf nodes', y = 'Error')"
   ]
  },
  {
   "cell_type": "markdown",
   "metadata": {},
   "source": [
    "**c) Use Scikit-learn's [`LogisticRegression`](https://scikit-learn.org/stable/modules/generated/sklearn.linear_model.LogisticRegression.html) to build a model to predict `saf_nonneighbors` using all integer features in the dataset (you may have to increase the `max_iter` argument to something like `1000`). Produce a full classification report.**"
   ]
  },
  {
   "cell_type": "code",
   "execution_count": 6,
   "metadata": {
    "scrolled": true
   },
   "outputs": [
    {
     "name": "stdout",
     "output_type": "stream",
     "text": [
      "              precision    recall  f1-score   support\n",
      "\n",
      "       1.low       0.66      0.70      0.68       210\n",
      "      2.high       0.67      0.64      0.65       203\n",
      "\n",
      "    accuracy                           0.67       413\n",
      "   macro avg       0.67      0.67      0.67       413\n",
      "weighted avg       0.67      0.67      0.67       413\n",
      "\n"
     ]
    }
   ],
   "source": [
    "from sklearn.linear_model import LogisticRegression\n",
    "y = ams['saf_nonneighbors']\n",
    "X = ams.select_dtypes('int')\n",
    "clf = LogisticRegression(max_iter=1000).fit(X, y)\n",
    "p = clf.predict(X)\n",
    "\n",
    "print(classification_report(y, p))"
   ]
  },
  {
   "cell_type": "markdown",
   "metadata": {},
   "source": [
    "**d) Implement function `tree_ovo_fit` to fit a multi-class decision tree following a one-versus-one approach with individual binary decision trees.**"
   ]
  },
  {
   "cell_type": "code",
   "execution_count": 7,
   "metadata": {},
   "outputs": [
    {
     "data": {
      "text/plain": [
       "{'vocabulary': Index(['1.low', '2.average', '3.high'], dtype='object'),\n",
       " 'models': [LogisticRegression(max_iter=1000, random_state=123),\n",
       "  LogisticRegression(max_iter=1000, random_state=123),\n",
       "  LogisticRegression(max_iter=1000, random_state=123)]}"
      ]
     },
     "execution_count": 7,
     "metadata": {},
     "output_type": "execute_result"
    }
   ],
   "source": [
    "from sklearn import tree\n",
    "\n",
    "# sample data\n",
    "y = ams['spa_streets']\n",
    "X = pd.get_dummies(ams.filter(regex = '^(fac_|inc_|saf_)'))\n",
    "\n",
    "def tree_ovo_fit(X, y, random_state):\n",
    "    models = []\n",
    "    vocabulary = y.cat.categories\n",
    "    \n",
    "    # for every pair of classes cl1-cl2\n",
    "        # filter out rows where the response is neither cl1 nor cl2\n",
    "        # fit a model cl1-vs-cl2\n",
    "        # store the model in models\n",
    "    for i, cl1 in enumerate(vocabulary):\n",
    "        for j in range(i + 1, len(vocabulary)):\n",
    "            cl2 = vocabulary[j]\n",
    "            mask = y.isin([cl1, cl2])\n",
    "\n",
    "            y_filtered = y[mask]\n",
    "            X_filtered = X[mask]\n",
    "            clf = LogisticRegression(max_iter=1000, random_state=random_state).fit(X_filtered, y_filtered)\n",
    "            models.append(clf)\n",
    "            \n",
    "    return {'vocabulary': vocabulary,\n",
    "            'models': models}\n",
    "\n",
    "# sample execution\n",
    "m = tree_ovo_fit(X, y, random_state = 123)\n",
    "m"
   ]
  },
  {
   "cell_type": "markdown",
   "metadata": {},
   "source": [
    "**e) Implement function `tree_ovo_predict` to predict from a model trained with `tree_ovo_fit`. The prediction should not be probabilistic (ie. it returns the predicted class). You will probably need a function to compute the mode (such as SciPy's [`mode`](https://docs.scipy.org/doc/scipy/reference/generated/scipy.stats.mode.html)), and a way to [flatten a list of lists](https://stackoverflow.com/a/953097/14674728).**"
   ]
  },
  {
   "cell_type": "code",
   "execution_count": 8,
   "metadata": {},
   "outputs": [
    {
     "data": {
      "text/plain": [
       "['2.average',\n",
       " '2.average',\n",
       " '2.average',\n",
       " '2.average',\n",
       " '2.average',\n",
       " '2.average',\n",
       " '3.high',\n",
       " '2.average',\n",
       " '2.average',\n",
       " '2.average',\n",
       " '1.low',\n",
       " '2.average',\n",
       " '2.average',\n",
       " '1.low',\n",
       " '2.average',\n",
       " '2.average',\n",
       " '2.average',\n",
       " '2.average',\n",
       " '2.average',\n",
       " '2.average',\n",
       " '2.average',\n",
       " '1.low',\n",
       " '2.average',\n",
       " '2.average',\n",
       " '2.average',\n",
       " '1.low',\n",
       " '1.low',\n",
       " '1.low',\n",
       " '2.average',\n",
       " '2.average',\n",
       " '2.average',\n",
       " '2.average',\n",
       " '2.average',\n",
       " '1.low',\n",
       " '1.low',\n",
       " '2.average',\n",
       " '1.low',\n",
       " '2.average',\n",
       " '2.average',\n",
       " '2.average',\n",
       " '1.low',\n",
       " '2.average',\n",
       " '1.low',\n",
       " '2.average',\n",
       " '2.average',\n",
       " '1.low',\n",
       " '2.average',\n",
       " '2.average',\n",
       " '1.low',\n",
       " '2.average',\n",
       " '2.average',\n",
       " '1.low',\n",
       " '2.average',\n",
       " '2.average',\n",
       " '3.high',\n",
       " '2.average',\n",
       " '2.average',\n",
       " '2.average',\n",
       " '2.average',\n",
       " '2.average',\n",
       " '2.average',\n",
       " '2.average',\n",
       " '2.average',\n",
       " '3.high',\n",
       " '2.average',\n",
       " '2.average',\n",
       " '2.average',\n",
       " '2.average',\n",
       " '2.average',\n",
       " '2.average',\n",
       " '2.average',\n",
       " '2.average',\n",
       " '2.average',\n",
       " '2.average',\n",
       " '2.average',\n",
       " '3.high',\n",
       " '3.high',\n",
       " '2.average',\n",
       " '2.average',\n",
       " '2.average',\n",
       " '2.average',\n",
       " '2.average',\n",
       " '2.average',\n",
       " '2.average',\n",
       " '2.average',\n",
       " '2.average',\n",
       " '2.average',\n",
       " '2.average',\n",
       " '3.high',\n",
       " '2.average',\n",
       " '2.average',\n",
       " '2.average',\n",
       " '2.average',\n",
       " '2.average',\n",
       " '2.average',\n",
       " '2.average',\n",
       " '2.average',\n",
       " '2.average',\n",
       " '2.average',\n",
       " '2.average',\n",
       " '2.average',\n",
       " '2.average',\n",
       " '2.average',\n",
       " '2.average',\n",
       " '2.average',\n",
       " '1.low',\n",
       " '1.low',\n",
       " '2.average',\n",
       " '2.average',\n",
       " '1.low',\n",
       " '1.low',\n",
       " '2.average',\n",
       " '2.average',\n",
       " '1.low',\n",
       " '2.average',\n",
       " '1.low',\n",
       " '1.low',\n",
       " '2.average',\n",
       " '1.low',\n",
       " '2.average',\n",
       " '1.low',\n",
       " '1.low',\n",
       " '2.average',\n",
       " '2.average',\n",
       " '2.average',\n",
       " '2.average',\n",
       " '1.low',\n",
       " '2.average',\n",
       " '1.low',\n",
       " '2.average',\n",
       " '1.low',\n",
       " '1.low',\n",
       " '2.average',\n",
       " '2.average',\n",
       " '2.average',\n",
       " '2.average',\n",
       " '2.average',\n",
       " '2.average',\n",
       " '2.average',\n",
       " '2.average',\n",
       " '2.average',\n",
       " '2.average',\n",
       " '2.average',\n",
       " '2.average',\n",
       " '2.average',\n",
       " '2.average',\n",
       " '2.average',\n",
       " '2.average',\n",
       " '1.low',\n",
       " '2.average',\n",
       " '2.average',\n",
       " '3.high',\n",
       " '2.average',\n",
       " '2.average',\n",
       " '2.average',\n",
       " '2.average',\n",
       " '2.average',\n",
       " '2.average',\n",
       " '2.average',\n",
       " '2.average',\n",
       " '2.average',\n",
       " '1.low',\n",
       " '2.average',\n",
       " '2.average',\n",
       " '2.average',\n",
       " '2.average',\n",
       " '2.average',\n",
       " '2.average',\n",
       " '2.average',\n",
       " '2.average',\n",
       " '2.average',\n",
       " '2.average',\n",
       " '2.average',\n",
       " '3.high',\n",
       " '2.average',\n",
       " '2.average',\n",
       " '2.average',\n",
       " '2.average',\n",
       " '2.average',\n",
       " '2.average',\n",
       " '2.average',\n",
       " '2.average',\n",
       " '2.average',\n",
       " '2.average',\n",
       " '2.average',\n",
       " '2.average',\n",
       " '2.average',\n",
       " '2.average',\n",
       " '2.average',\n",
       " '1.low',\n",
       " '2.average',\n",
       " '2.average',\n",
       " '2.average',\n",
       " '2.average',\n",
       " '2.average',\n",
       " '1.low',\n",
       " '2.average',\n",
       " '2.average',\n",
       " '2.average',\n",
       " '1.low',\n",
       " '2.average',\n",
       " '1.low',\n",
       " '2.average',\n",
       " '1.low',\n",
       " '2.average',\n",
       " '2.average',\n",
       " '1.low',\n",
       " '2.average',\n",
       " '2.average',\n",
       " '2.average',\n",
       " '2.average',\n",
       " '2.average',\n",
       " '2.average',\n",
       " '1.low',\n",
       " '2.average',\n",
       " '2.average',\n",
       " '1.low',\n",
       " '2.average',\n",
       " '1.low',\n",
       " '2.average',\n",
       " '1.low',\n",
       " '2.average',\n",
       " '2.average',\n",
       " '1.low',\n",
       " '2.average',\n",
       " '1.low',\n",
       " '1.low',\n",
       " '2.average',\n",
       " '2.average',\n",
       " '2.average',\n",
       " '2.average',\n",
       " '1.low',\n",
       " '2.average',\n",
       " '2.average',\n",
       " '2.average',\n",
       " '2.average',\n",
       " '2.average',\n",
       " '2.average',\n",
       " '2.average',\n",
       " '2.average',\n",
       " '2.average',\n",
       " '2.average',\n",
       " '1.low',\n",
       " '1.low',\n",
       " '2.average',\n",
       " '1.low',\n",
       " '2.average',\n",
       " '2.average',\n",
       " '2.average',\n",
       " '2.average',\n",
       " '2.average',\n",
       " '3.high',\n",
       " '2.average',\n",
       " '2.average',\n",
       " '1.low',\n",
       " '2.average',\n",
       " '2.average',\n",
       " '2.average',\n",
       " '2.average',\n",
       " '2.average',\n",
       " '2.average',\n",
       " '2.average',\n",
       " '2.average',\n",
       " '2.average',\n",
       " '1.low',\n",
       " '2.average',\n",
       " '2.average',\n",
       " '2.average',\n",
       " '2.average',\n",
       " '2.average',\n",
       " '2.average',\n",
       " '2.average',\n",
       " '2.average',\n",
       " '2.average',\n",
       " '2.average',\n",
       " '2.average',\n",
       " '2.average',\n",
       " '2.average',\n",
       " '2.average',\n",
       " '2.average',\n",
       " '2.average',\n",
       " '3.high',\n",
       " '2.average',\n",
       " '2.average',\n",
       " '2.average',\n",
       " '2.average',\n",
       " '2.average',\n",
       " '2.average',\n",
       " '3.high',\n",
       " '2.average',\n",
       " '2.average',\n",
       " '2.average',\n",
       " '2.average',\n",
       " '2.average',\n",
       " '2.average',\n",
       " '2.average',\n",
       " '2.average',\n",
       " '2.average',\n",
       " '2.average',\n",
       " '2.average',\n",
       " '2.average',\n",
       " '2.average',\n",
       " '2.average',\n",
       " '2.average',\n",
       " '2.average',\n",
       " '2.average',\n",
       " '2.average',\n",
       " '2.average',\n",
       " '2.average',\n",
       " '3.high',\n",
       " '2.average',\n",
       " '2.average',\n",
       " '2.average',\n",
       " '2.average',\n",
       " '2.average',\n",
       " '2.average',\n",
       " '2.average',\n",
       " '1.low',\n",
       " '1.low',\n",
       " '2.average',\n",
       " '2.average',\n",
       " '2.average',\n",
       " '2.average',\n",
       " '2.average',\n",
       " '1.low',\n",
       " '3.high',\n",
       " '1.low',\n",
       " '2.average',\n",
       " '2.average',\n",
       " '2.average',\n",
       " '2.average',\n",
       " '2.average',\n",
       " '2.average',\n",
       " '2.average',\n",
       " '2.average',\n",
       " '2.average',\n",
       " '2.average',\n",
       " '2.average',\n",
       " '2.average',\n",
       " '2.average',\n",
       " '2.average',\n",
       " '2.average',\n",
       " '1.low',\n",
       " '2.average',\n",
       " '2.average',\n",
       " '2.average',\n",
       " '2.average',\n",
       " '2.average',\n",
       " '2.average',\n",
       " '2.average',\n",
       " '2.average',\n",
       " '1.low',\n",
       " '2.average',\n",
       " '1.low',\n",
       " '2.average',\n",
       " '1.low',\n",
       " '2.average',\n",
       " '1.low',\n",
       " '1.low',\n",
       " '2.average',\n",
       " '2.average',\n",
       " '2.average',\n",
       " '2.average',\n",
       " '2.average',\n",
       " '2.average',\n",
       " '2.average',\n",
       " '2.average',\n",
       " '2.average',\n",
       " '2.average',\n",
       " '1.low',\n",
       " '1.low',\n",
       " '2.average',\n",
       " '2.average',\n",
       " '2.average',\n",
       " '1.low',\n",
       " '2.average',\n",
       " '2.average',\n",
       " '1.low',\n",
       " '1.low',\n",
       " '2.average',\n",
       " '2.average',\n",
       " '2.average',\n",
       " '1.low',\n",
       " '2.average',\n",
       " '2.average',\n",
       " '2.average',\n",
       " '2.average',\n",
       " '2.average',\n",
       " '1.low',\n",
       " '2.average',\n",
       " '2.average',\n",
       " '2.average',\n",
       " '2.average',\n",
       " '2.average',\n",
       " '1.low',\n",
       " '2.average',\n",
       " '2.average',\n",
       " '2.average',\n",
       " '2.average',\n",
       " '2.average',\n",
       " '2.average',\n",
       " '2.average',\n",
       " '1.low',\n",
       " '2.average',\n",
       " '2.average',\n",
       " '2.average',\n",
       " '2.average',\n",
       " '2.average',\n",
       " '2.average',\n",
       " '1.low',\n",
       " '2.average',\n",
       " '2.average',\n",
       " '2.average']"
      ]
     },
     "execution_count": 8,
     "metadata": {},
     "output_type": "execute_result"
    }
   ],
   "source": [
    "from scipy.stats import mode\n",
    "from itertools import chain\n",
    "\n",
    "# sample model\n",
    "m = tree_ovo_fit(X, y, random_state = 123)\n",
    "\n",
    "def tree_ovo_predict(model, X):\n",
    "    # prepare an array with as many rows as X, and as many columns as individual models\n",
    "    p = np.empty_like(model['vocabulary'], shape = [X.shape[0], len(model['models'])])\n",
    "    \n",
    "    # for every individual model\n",
    "        # make a prediction and store it in p\n",
    "    for i, ind_model in enumerate(model['models']):\n",
    "        p[:, i] = ind_model.predict(X)\n",
    "    \n",
    "    # select the classes that got predicted most often and return them\n",
    "    ovo_p = mode(p, axis=1)[0]\n",
    "    return list(chain(*ovo_p))\n",
    "\n",
    "p = tree_ovo_predict(m, X)\n",
    "p"
   ]
  },
  {
   "cell_type": "markdown",
   "metadata": {},
   "source": [
    "**f) Fit an SVM model to predict `district` based on *all other* features in the dataset, and produce a full classification report with the training data. Is there any problem with this model, and if so, what is the cause? You don't need to tune hyperparameters, but you will need to use Pandas' [`get_dummies`](https://pandas.pydata.org/docs/reference/api/pandas.get_dummies.html) to encode categorical features.**"
   ]
  },
  {
   "cell_type": "markdown",
   "metadata": {},
   "source": [
    "This model produces a 100% accuracy rate, which probably means that the model is overfitted on the training data. This makes sense as we do not have a test set disjoint from the training set."
   ]
  },
  {
   "cell_type": "code",
   "execution_count": 9,
   "metadata": {
    "scrolled": true
   },
   "outputs": [
    {
     "name": "stdout",
     "output_type": "stream",
     "text": [
      "              precision    recall  f1-score   support\n",
      "\n",
      "   A Centrum       1.00      1.00      1.00        41\n",
      "      E West       1.00      1.00      1.00        74\n",
      "F Nieuw-West       1.00      1.00      1.00        67\n",
      "      K Zuid       1.00      1.00      1.00        71\n",
      "      M Oost       1.00      1.00      1.00        70\n",
      "     N Noord       1.00      1.00      1.00        49\n",
      "  T Zuidoost       1.00      1.00      1.00        41\n",
      "\n",
      "    accuracy                           1.00       413\n",
      "   macro avg       1.00      1.00      1.00       413\n",
      "weighted avg       1.00      1.00      1.00       413\n",
      "\n"
     ]
    },
    {
     "data": {
      "text/plain": [
       "<sklearn.metrics._plot.confusion_matrix.ConfusionMatrixDisplay at 0x7f6aa5a85910>"
      ]
     },
     "execution_count": 9,
     "metadata": {},
     "output_type": "execute_result"
    },
    {
     "data": {
      "image/png": "[encoded data removed]",
      "text/plain": [
       "<Figure size 432x288 with 2 Axes>"
      ]
     },
     "metadata": {
      "needs_background": "light"
     },
     "output_type": "display_data"
    }
   ],
   "source": [
    "from sklearn.svm import SVC\n",
    "from sklearn.preprocessing import StandardScaler\n",
    "\n",
    "# sample data\n",
    "y = ams['district']\n",
    "X = pd.get_dummies(ams.loc[ : , ams.columns != 'district'])\n",
    "\n",
    "# \"learn\" how to scale from the training data\n",
    "scaler = StandardScaler().fit(X)\n",
    "# scale the feature matrix X and turn into a Pandas dataframe\n",
    "X_prime = scaler.transform(X)\n",
    "X_prime = pd.DataFrame.from_records(X_prime, columns = X.columns)\n",
    "\n",
    "# train\n",
    "c = SVC()\n",
    "m = c.fit(X_prime, y)\n",
    "p = m.predict(X_prime)\n",
    "\n",
    "print(classification_report(y, p))\n",
    "ConfusionMatrixDisplay.from_predictions(y, p, labels = y.cat.categories)"
   ]
  },
  {
   "cell_type": "markdown",
   "metadata": {},
   "source": [
    "**g) Use 5-fold cross-validation to plot how the F-score is affected by `max_features` when building random forests to predict `ahd` based on _all_ other features in the _Heart_ dataset. Compare with the performance of a decision tree and a bagging model, also doing 5-fold cross-validation. Use 50 trees for random forests and bagging.**"
   ]
  },
  {
   "cell_type": "code",
   "execution_count": 10,
   "metadata": {},
   "outputs": [
    {
     "name": "stdout",
     "output_type": "stream",
     "text": [
      "   accuracy  precision    recall         f     error  _h\n",
      "0  0.791525   0.790672  0.789269  0.789716  0.208475   0\n"
     ]
    },
    {
     "data": {
      "image/png": "[encoded data removed]",
      "text/plain": [
       "<Figure size 640x480 with 1 Axes>"
      ]
     },
     "metadata": {},
     "output_type": "display_data"
    },
    {
     "data": {
      "text/plain": [
       "<ggplot: (8756001049329)>"
      ]
     },
     "execution_count": 10,
     "metadata": {},
     "output_type": "execute_result"
    }
   ],
   "source": [
    "from sklearn.ensemble import BaggingClassifier, RandomForestClassifier\n",
    "\n",
    "def cv_random_forest(X_train, y_train, X_valid, y_valid, h):\n",
    "    c = RandomForestClassifier(n_estimators = 50, max_features = 3)\n",
    "    m = c.fit(X_train, y_train)  # fit the model with the training set\n",
    "    p = m.predict(X_valid)  # predict on the validation set\n",
    "\n",
    "    return {'accuracy': accuracy_score(y_valid, p),\n",
    "            'precision': precision_score(y_valid, p, average = 'macro', zero_division = 0),\n",
    "            'recall': recall_score(y_valid, p, average = 'macro'),\n",
    "            'f': f1_score(y_valid, p, average = 'macro'),\n",
    "            'error': 1-accuracy_score(y_valid, p)}\n",
    "\n",
    "def cv_bagging(X_train, y_train, X_valid, y_valid, h):\n",
    "    c = BaggingClassifier(n_estimators = 50)\n",
    "    m = c.fit(X_train, y_train)  # fit the model with the training set\n",
    "    p = m.predict(X_valid)  # predict on the validation set\n",
    "\n",
    "    return {'accuracy': accuracy_score(y_valid, p),\n",
    "            'precision': precision_score(y_valid, p, average = 'macro', zero_division = 0),\n",
    "            'recall': recall_score(y_valid, p, average = 'macro'),\n",
    "            'f': f1_score(y_valid, p, average = 'macro'),\n",
    "            'error': 1-accuracy_score(y_valid, p)}\n",
    "\n",
    "\n",
    "# sample data and model\n",
    "y = heart['ahd'] # .cat.codes\n",
    "X = pd.get_dummies(heart.loc[ : , heart.columns != 'ahd'])\n",
    "\n",
    "# print(kfold_cv(X, y, k = 5, H = range(2,10), cv_fun = cv_tree_leaf, random_state = 12345))\n",
    "# print(kfold_cv(X, y, k = 5, H = range(X.shape[1]), cv_fun = cv_random_forest, random_state = 12345))\n",
    "print(kfold_cv(X, y, k = 5, H = range(1), cv_fun = cv_bagging, random_state = 12345))\n",
    "\n",
    "\n",
    "pr = kfold_cv(X, y, k = 5, H = range(X.shape[1]), cv_fun = cv_random_forest, random_state = 12345)\n",
    "pr = pr.loc[:, ['f', '_h']]\n",
    "pr = pr.melt(id_vars = '_h', var_name = 'Metric')\n",
    "ggplot(pr, aes('_h', 'value', color = 'Metric')) +\\\n",
    "    geom_point() +\\\n",
    "    geom_smooth(se = False) +\\\n",
    "    labs(x = 'Max features')"
   ]
  },
  {
   "cell_type": "markdown",
   "metadata": {},
   "source": [
    "**h) The tutorial notebook built a multinomial model to predict `spa_streets` based on some features and their interactions, but the model had clear issues of class imbalance whereby the majority class `2.average` dominated the learning process. The resulting macro-averaged F-score was indeed low at 0.39. Try solving this issue by fitting the same model on a new dataset where the minority classes `1.low` and `3.high` are oversampled to contain the same number of instances as the majority class. Compare the model with the one in the tutorial using the original dataset. Does the new model improve in terms of imbalance? Why? You can use Pandas' [`sample`](https://pandas.pydata.org/docs/reference/api/pandas.core.groupby.DataFrameGroupBy.sample.html) to oversample instances.**"
   ]
  },
  {
   "cell_type": "markdown",
   "metadata": {},
   "source": [
    "The model does not seem to be biased towards `2.average` anymore. For instance, the f-score has improved. The dataset has been oversampled towards a more balanced dataset, meaning that there is no majority class to be biased towards."
   ]
  },
  {
   "cell_type": "code",
   "execution_count": 11,
   "metadata": {},
   "outputs": [
    {
     "name": "stdout",
     "output_type": "stream",
     "text": [
      "Optimization terminated successfully.\n",
      "         Current function value: 0.864408\n",
      "         Iterations 7\n",
      "              precision    recall  f1-score   support\n",
      "\n",
      "       1.low       0.64      0.69      0.67       240\n",
      "   2.average       0.59      0.31      0.41       240\n",
      "      3.high       0.61      0.85      0.71       240\n",
      "\n",
      "    accuracy                           0.62       720\n",
      "   macro avg       0.61      0.62      0.59       720\n",
      "weighted avg       0.61      0.62      0.59       720\n",
      "\n"
     ]
    },
    {
     "data": {
      "text/plain": [
       "<sklearn.metrics._plot.confusion_matrix.ConfusionMatrixDisplay at 0x7f6aa5498400>"
      ]
     },
     "execution_count": 11,
     "metadata": {},
     "output_type": "execute_result"
    },
    {
     "data": {
      "image/png": "[encoded data removed]",
      "text/plain": [
       "<Figure size 432x288 with 2 Axes>"
      ]
     },
     "metadata": {
      "needs_background": "light"
     },
     "output_type": "display_data"
    }
   ],
   "source": [
    "n = ams[ams['spa_streets'] == mode(ams['spa_streets'])[0][0]].shape[0]\n",
    "amss = ams.groupby('spa_streets').sample(n, replace=True, random_state=12345)\n",
    "\n",
    "amss['y'] = amss['spa_streets'].cat.codes\n",
    "\n",
    "m = smf.mnlogit('y ~ (hou_corporation + hou_occupant + hou_other + hou_value)**2 + inc_income + inc_gini', amss).fit()\n",
    "\n",
    "p = m.predict()\n",
    "p = amss['spa_streets'].cat.categories[np.argmax(p, axis = 1)]\n",
    "\n",
    "print(classification_report(amss['spa_streets'], p))\n",
    "ConfusionMatrixDisplay.from_predictions(amss['spa_streets'], p, labels = amss['spa_streets'].cat.categories)"
   ]
  },
  {
   "cell_type": "markdown",
   "metadata": {},
   "source": [
    "**i) Create an _unambiguous_ and _nontrivial_ question, and its corresponding solution, as if you were writing the set of exercises for the _Classification_ lab. The question must cover at least 3 of the following aspects:**\n",
    "\n",
    "- **Logistic or Multinomial regression for classification**\n",
    "- **Decision trees, bagging or random forests**\n",
    "- **Support Vector Machines**\n",
    "- **Model evaluation**\n",
    "- **Choice of hyperparameters via cross-validation**\n",
    "- **An open-ended question to explain some behavior**\n",
    "\n",
    "**Please make it explicit which 3 of these aspects your question covers. You can use any of the datasets available on Brightspace.**"
   ]
  },
  {
   "cell_type": "code",
   "execution_count": null,
   "metadata": {},
   "outputs": [],
   "source": []
  }
 ],
 "metadata": {
  "jupytext": {
   "formats": "ipynb,Rmd"
  },
  "kernelspec": {
   "display_name": "Python 3",
   "language": "python",
   "name": "python3"
  },
  "language_info": {
   "codemirror_mode": {
    "name": "ipython",
    "version": 3
   },
   "file_extension": ".py",
   "mimetype": "text/x-python",
   "name": "python",
   "nbconvert_exporter": "python",
   "pygments_lexer": "ipython3",
   "version": "3.9.7"
  }
 },
 "nbformat": 4,
 "nbformat_minor": 4
}
