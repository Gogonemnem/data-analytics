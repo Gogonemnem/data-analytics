{
 "cells": [
  {
   "cell_type": "markdown",
   "metadata": {},
   "source": [
    "# TI3130: Regression Lab &mdash; Exercises (variant B)\n",
    "**Julián Urbano &mdash; December 2021**"
   ]
  },
  {
   "cell_type": "code",
   "execution_count": 1,
   "metadata": {
    "ExecuteTime": {
     "end_time": "2020-11-26T11:42:06.238026Z",
     "start_time": "2020-11-26T11:42:05.255756Z"
    }
   },
   "outputs": [
    {
     "name": "stdout",
     "output_type": "stream",
     "text": [
      "python 3.8.12 (default, Oct 12 2021, 03:01:40) [MSC v.1916 64 bit (AMD64)] \n",
      "numpy 1.21.2 \n",
      "pandas 1.3.4 \n",
      "plotnine 0.8.0 \n",
      "statsmodels 0.13.0\n"
     ]
    }
   ],
   "source": [
    "import sys\n",
    "import numpy as np\n",
    "import pandas as pd\n",
    "from plotnine import *\n",
    "from plotnine import __version__ as p9__version__\n",
    "import statsmodels.api as sm\n",
    "import statsmodels.formula.api as smf\n",
    "\n",
    "print(\"python\", sys.version,\n",
    "      \"\\nnumpy\", np.__version__,\n",
    "      \"\\npandas\", pd.__version__,\n",
    "      \"\\nplotnine\", p9__version__,\n",
    "      \"\\nstatsmodels\", sm.__version__)"
   ]
  },
  {
   "cell_type": "markdown",
   "metadata": {},
   "source": [
    "For these exercises we will use the _Amsterdam Lite_ dataset, the _Advertising_ dataset, and the _Wages_ dataset. Please refer to their HTML files for a description of the variables.\n",
    "\n",
    "**Slide numbers refer to the page of the slides PDF, not the recordings.** Page _Lx_ refers to page _x_ of the _The Linear Model_ lecture. Page _Rx_ refers to page _x_ of the _Regression_ lecture."
   ]
  },
  {
   "cell_type": "code",
   "execution_count": 2,
   "metadata": {
    "ExecuteTime": {
     "end_time": "2020-11-26T11:42:06.502358Z",
     "start_time": "2020-11-26T11:42:06.391246Z"
    },
    "scrolled": true
   },
   "outputs": [],
   "source": [
    "ams = pd.read_csv('amsterdam_lite.csv')\n",
    "adv = pd.read_csv('advertising.csv')\n",
    "wage = pd.read_csv('wages.csv')"
   ]
  },
  {
   "cell_type": "markdown",
   "metadata": {},
   "source": [
    "**a) Fit a model of `sales` by `newspaper`, and report the results as in slide L15 (the coefficients and the three plots). Based on these results, describe two differences with respect to the model in the slide.**"
   ]
  },
  {
   "cell_type": "code",
   "execution_count": null,
   "metadata": {
    "scrolled": false
   },
   "outputs": [],
   "source": []
  },
  {
   "cell_type": "markdown",
   "metadata": {},
   "source": [
    "**b) Make the two plots in slide L21 with the `sales` and `newspaper` variables. You only need to show the two blue lines and the two red lines, with no text annotations. Plotnine's [`geom_abline`](https://plotnine.readthedocs.io/en/stable/generated/plotnine.geoms.geom_abline.html) will be helpful.**"
   ]
  },
  {
   "cell_type": "code",
   "execution_count": null,
   "metadata": {
    "scrolled": false
   },
   "outputs": [],
   "source": []
  },
  {
   "cell_type": "markdown",
   "metadata": {},
   "source": [
    "**c) Reproduce the plot in slide L49, also including the simple linear model in black. Don't worry about the _x_-axis extending until 0.**"
   ]
  },
  {
   "cell_type": "code",
   "execution_count": null,
   "metadata": {
    "scrolled": false
   },
   "outputs": [],
   "source": []
  },
  {
   "cell_type": "markdown",
   "metadata": {},
   "source": [
    "**d) Which factor has the largest effect on the `wage`: `education` or `jobclass`? Use a linear model to answer the question.**"
   ]
  },
  {
   "cell_type": "code",
   "execution_count": null,
   "metadata": {},
   "outputs": [],
   "source": []
  },
  {
   "cell_type": "markdown",
   "metadata": {},
   "source": [
    "**e) Build a logistic model to predict `unemployment` with `inc_gini` and `district`. Show the regression lines in both the link space and the response space, as we did in slide R54, using different colors for `district`s.**"
   ]
  },
  {
   "cell_type": "code",
   "execution_count": null,
   "metadata": {},
   "outputs": [],
   "source": []
  },
  {
   "cell_type": "markdown",
   "metadata": {},
   "source": [
    "**f) In the tutorial we fitted a logistic model `unemployment ~ I(1/inc_income)*spa_playing`, and plotted it in the response space. However, the regression lines did not span the whole range of `inc_income` because we plotted them only at observed values of `inc_income`. Make a new plot making sure the lines _do_ span the whole range. Functions [`np.linspace`](https://numpy.org/doc/stable/reference/generated/numpy.linspace.html) and [`pd.merge`](https://pandas.pydata.org/docs/reference/api/pandas.DataFrame.merge.html) (with a `cross` join) will be useful.**"
   ]
  },
  {
   "cell_type": "code",
   "execution_count": null,
   "metadata": {},
   "outputs": [],
   "source": []
  },
  {
   "cell_type": "markdown",
   "metadata": {},
   "source": [
    "**g) Fit a model to predict `wage` with `status` and `age`. Which group has a better salary according to the model, \"married\" or \"separated\"? Can we test whether this difference is statistically significant? If not, what do we need to change? See [here](https://www.statsmodels.org/stable/contrasts.html#treatment-dummy-coding) and [here](https://patsy.readthedocs.io/en/latest/API-reference.html#patsy.Treatment).**"
   ]
  },
  {
   "cell_type": "code",
   "execution_count": null,
   "metadata": {},
   "outputs": [],
   "source": []
  },
  {
   "cell_type": "markdown",
   "metadata": {},
   "source": [
    "**h) Fit a model of `wage` by `insurance` and `jobclass`, including their interaction. According to the model, what are the mean salaries in each of the four combinations? Confirm this by comparing to the sample means.**"
   ]
  },
  {
   "cell_type": "code",
   "execution_count": null,
   "metadata": {},
   "outputs": [],
   "source": []
  },
  {
   "cell_type": "markdown",
   "metadata": {},
   "source": [
    "**i) Create an _unambiguous_ and _nontrivial_ question, and its corresponding solution, as if you were writing the set of exercises for the lab. The question must cover _at least 3_ of the following aspects:**\n",
    "\n",
    "- **Diagnosing the model**\n",
    "- **Interpreting coefficients or their precision**\n",
    "- **Categorical predictors, interactions or transformations**\n",
    "- **Analysis of Variance**\n",
    "- **Logistic regression**\n",
    "- **An open-ended question to explain some behavior**\n",
    "\n",
    "**Please make it explicit which 3 of these aspects your question covers. You can use any of the datasets available on Brightspace.**"
   ]
  },
  {
   "cell_type": "code",
   "execution_count": null,
   "metadata": {},
   "outputs": [],
   "source": []
  }
 ],
 "metadata": {
  "jupytext": {
   "formats": "ipynb,Rmd"
  },
  "kernelspec": {
   "display_name": "Python 3 (ipykernel)",
   "language": "python",
   "name": "python3"
  },
  "language_info": {
   "codemirror_mode": {
    "name": "ipython",
    "version": 3
   },
   "file_extension": ".py",
   "mimetype": "text/x-python",
   "name": "python",
   "nbconvert_exporter": "python",
   "pygments_lexer": "ipython3",
   "version": "3.8.12"
  },
  "toc": {
   "base_numbering": 1,
   "nav_menu": {},
   "number_sections": true,
   "sideBar": true,
   "skip_h1_title": false,
   "title_cell": "Table of Contents",
   "title_sidebar": "Contents",
   "toc_cell": true,
   "toc_position": {
    "height": "calc(100% - 180px)",
    "left": "10px",
    "top": "150px",
    "width": "288px"
   },
   "toc_section_display": true,
   "toc_window_display": true
  },
  "varInspector": {
   "cols": {
    "lenName": 16,
    "lenType": 16,
    "lenVar": 40
   },
   "kernels_config": {
    "python": {
     "delete_cmd_postfix": "",
     "delete_cmd_prefix": "del ",
     "library": "var_list.py",
     "varRefreshCmd": "print(var_dic_list())"
    },
    "r": {
     "delete_cmd_postfix": ") ",
     "delete_cmd_prefix": "rm(",
     "library": "var_list.r",
     "varRefreshCmd": "cat(var_dic_list()) "
    }
   },
   "types_to_exclude": [
    "module",
    "function",
    "builtin_function_or_method",
    "instance",
    "_Feature"
   ],
   "window_display": false
  }
 },
 "nbformat": 4,
 "nbformat_minor": 4
}
